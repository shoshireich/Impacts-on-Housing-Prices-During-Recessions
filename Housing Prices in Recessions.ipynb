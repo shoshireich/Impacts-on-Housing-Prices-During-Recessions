{
 "cells": [
  {
   "cell_type": "markdown",
   "metadata": {},
   "source": [
    "# Housing Prices in Recessions"
   ]
  },
  {
   "cell_type": "markdown",
   "metadata": {},
   "source": [
    "Hypothesis: The mean housing prices in university towns is less affected by recessions that those in non-university towns. \n",
    "\n",
    "The three following datasets are used:\n",
    "1. Median home sale prices from the Zillow research data site\n",
    "2. A list of university towns in the United States from Wikipedia\n",
    "3. The United States GDP over time in current dollars"
   ]
  },
  {
   "cell_type": "markdown",
   "metadata": {},
   "source": [
    "## Data Cleaning"
   ]
  },
  {
   "cell_type": "code",
   "execution_count": 38,
   "metadata": {},
   "outputs": [],
   "source": [
    "import numpy as np\n",
    "import pandas as pd\n",
    "from scipy.stats import ttest_ind"
   ]
  },
  {
   "cell_type": "code",
   "execution_count": 33,
   "metadata": {},
   "outputs": [],
   "source": [
    "# Load university towns data\n",
    "towns = pd.read_csv('university_towns.txt', sep = '\\t', header = None)\n",
    "\n",
    "# Clean up names\n",
    "for i in range(len(towns[0])):\n",
    "    if '(' in towns[0][i]:\n",
    "        newname = towns[0][i].split('(')[0][:-1]\n",
    "        towns[0].replace({towns[0][i]:newname}, inplace = True)\n",
    "    elif '[' in towns[0][i]:\n",
    "        newname = towns[0][i].split('[')[0]\n",
    "        towns[0].replace({towns[0][i]:newname}, inplace = True)\n",
    "towns.columns = ['RegionName']\n",
    "\n",
    "# Get indices of states\n",
    "indices = []\n",
    "statesalph = [\"Alabama\",\"Alaska\",\"Arizona\",\"Arkansas\",\"California\",\"Colorado\",\n",
    "    \"Connecticut\",\"Delaware\",\"Florida\",\"Georgia\",\"Hawaii\",\"Idaho\",\"Illinois\",\n",
    "    \"Indiana\",\"Iowa\",\"Kansas\",\"Kentucky\",\"Louisiana\",\"Maine\",\"Maryland\",\n",
    "    \"Massachusetts\",\"Michigan\",\"Minnesota\",\"Mississippi\",\"Missouri\",\"Montana\",\n",
    "    \"Nebraska\",\"Nevada\",\"New Hampshire\",\"New Jersey\",\"New Mexico\",\"New York\",\n",
    "    \"North Carolina\",\"North Dakota\",\"Ohio\",\"Oklahoma\",\"Oregon\",\"Pennsylvania\",\n",
    "    \"Rhode Island\",\"South Carolina\",\"South Dakota\",\"Tennessee\",\"Texas\",\"Utah\",\n",
    "    \"Vermont\",\"Virginia\",\"Washington\",\"West Virginia\",\"Wisconsin\",\"Wyoming\"]\n",
    "    \n",
    "for j in range(len(statesalph)):           \n",
    "    stateidx = [i for i in range(len(towns)) if towns.iloc[i]['RegionName'] == statesalph[j]]\n",
    "    indices.append(stateidx)\n",
    "\n",
    "newindices = [indices[i][0] for i in range(len(indices))]\n",
    "newindices.append(len(towns)) \n",
    "\n",
    "# Create State array\n",
    "multiply = []\n",
    "for i in range(len(newindices) - 1):\n",
    "    multiply.append(newindices[i+1]-newindices[i])\n",
    "\n",
    "statecol = []\n",
    "for i in range(len(statesalph)):\n",
    "    statecol.append([statesalph[i]]*multiply[i])\n",
    "\n",
    "flat_list = [item for sublist in statecol for item in sublist]\n",
    "\n",
    "# Add State array to dataframe\n",
    "towns['State'] = flat_list\n",
    "\n",
    "# Drop states from regions\n",
    "for i in range(len(towns)):\n",
    "    if towns.loc[i]['RegionName'] == towns.loc[i]['State']:\n",
    "        towns.drop([i], inplace = True)\n",
    "\n",
    "# Reorder columns\n",
    "towns = towns[['State', 'RegionName']]\n"
   ]
  },
  {
   "cell_type": "code",
   "execution_count": 10,
   "metadata": {},
   "outputs": [],
   "source": [
    "# Load GDP data\n",
    "gdp = pd.read_excel('gdplev.xls', skiprows = 5)\n",
    "\n",
    "# Select wanted rows and columns\n",
    "gdp = gdp[['Unnamed: 4', 'GDP in billions of chained 2009 dollars.1']]\n",
    "n = gdp[gdp['Unnamed: 4'] == '2000q1'].index[0]\n",
    "gdp = gdp.drop(gdp.index[0:n])\n",
    "gdp = gdp.reset_index(drop=True)\n",
    "\n",
    "# Find starts of recession\n",
    "start = []\n",
    "for i in range(len(gdp)-4):\n",
    "    value1 = gdp['GDP in billions of chained 2009 dollars.1'][i]\n",
    "    value2 = gdp['GDP in billions of chained 2009 dollars.1'][i+1]\n",
    "    value3 = gdp['GDP in billions of chained 2009 dollars.1'][i+2]\n",
    "    if (value2 < value1) & (value3 < value2):\n",
    "        start.append(gdp['Unnamed: 4'][i])\n",
    "start = start[1]\n",
    "\n",
    "# Look at data after recession start\n",
    "idx = gdp.index[gdp['Unnamed: 4'] == start][0]\n",
    "afterstart = gdp[idx:]\n",
    "afterstart.reset_index(drop=True, inplace = True)\n",
    "\n",
    "# Find end of recession\n",
    "end = []\n",
    "for i in range(len(afterstart)-2):\n",
    "    value1 = afterstart['GDP in billions of chained 2009 dollars.1'][i]\n",
    "    value2 = afterstart['GDP in billions of chained 2009 dollars.1'][i+1]\n",
    "    value3 = afterstart['GDP in billions of chained 2009 dollars.1'][i+2]\n",
    "    if (value2 > value1) & (value3 > value2):\n",
    "        end.append(afterstart['Unnamed: 4'][i+2])\n",
    "\n",
    "end = end[0]\n",
    "\n",
    "# Recession quarters\n",
    "startidx = gdp.index[gdp['Unnamed: 4'] == start][0]\n",
    "endidx = gdp.index[gdp['Unnamed: 4'] == end][0]\n",
    "recession = gdp.loc[startidx:endidx]\n",
    "\n",
    "# Find recession bottom\n",
    "worst = recession['GDP in billions of chained 2009 dollars.1'].min()\n",
    "worstidx = gdp.index[gdp['GDP in billions of chained 2009 dollars.1'] == worst][0]\n",
    "bottom = gdp.loc[worstidx]['Unnamed: 4']\n"
   ]
  },
  {
   "cell_type": "code",
   "execution_count": 35,
   "metadata": {},
   "outputs": [],
   "source": [
    "# Load data\n",
    "homes = pd.read_csv('City_Zhvi_AllHomes.csv')\n",
    "\n",
    "# Look at years 2000-2015\n",
    "yearswanted = [year for year in homes.columns if year[0] == '2']\n",
    "colswanted = ['RegionName', 'State'] + yearswanted\n",
    "homes = homes[colswanted]\n",
    "\n",
    "# Convert monthly data to quarters\n",
    "for i in range(16): #loop through years 2000-2015\n",
    "    if i < 10:\n",
    "        yearstr = '200' + str(i)\n",
    "    else: \n",
    "        yearstr = '20' + str(i)\n",
    "    q1 = [yearstr+'-01', yearstr+'-02', yearstr+'-03'] # divide year into quarters\n",
    "    q2 = [yearstr+'-04', yearstr+'-05', yearstr+'-06']\n",
    "    q3 = [yearstr+'-07', yearstr+'-08', yearstr+'-09']\n",
    "    q4 = [yearstr+'-10', yearstr+'-11', yearstr+'-12']\n",
    "    quarter = [q1, q2, q3, q4]\n",
    "    for j in range(len(quarter)): #loop through quarters\n",
    "        homes[yearstr + 'q' + str(j+1)] = homes[quarter[j]].mean(axis=1) #find mean of quarter\n",
    "# for 2016\n",
    "q1 = ['2016-01', '2016-02', '2016-03'] # divide year into quarters\n",
    "q2 = ['2016-04', '2016-05', '2016-06']\n",
    "q3 = ['2016-07', '2016-08']\n",
    "quarter = [q1, q2, q3]\n",
    "for i in range(len(quarter)): #loop through quarters\n",
    "    homes['2016q' + str(i+1)] = homes[quarter[i]].mean(axis=1)\n",
    "\n",
    "# Only keep quarters\n",
    "homesqtr = homes.drop((year for year in homes.columns if '-' in year), axis = 1)\n",
    "    \n",
    "# Multi-index by state and city name\n",
    "# Dictionary to map state names to two letter acronyms\n",
    "states = {'OH': 'Ohio', 'KY': 'Kentucky', 'AS': 'American Samoa', 'NV': 'Nevada', 'WY': 'Wyoming', 'NA': 'National', 'AL': 'Alabama', 'MD': 'Maryland', 'AK': 'Alaska', 'UT': 'Utah', 'OR': 'Oregon', 'MT': 'Montana', 'IL': 'Illinois', 'TN': 'Tennessee', 'DC': 'District of Columbia', 'VT': 'Vermont', 'ID': 'Idaho', 'AR': 'Arkansas', 'ME': 'Maine', 'WA': 'Washington', 'HI': 'Hawaii', 'WI': 'Wisconsin', 'MI': 'Michigan', 'IN': 'Indiana', 'NJ': 'New Jersey', 'AZ': 'Arizona', 'GU': 'Guam', 'MS': 'Mississippi', 'PR': 'Puerto Rico', 'NC': 'North Carolina', 'TX': 'Texas', 'SD': 'South Dakota', 'MP': 'Northern Mariana Islands', 'IA': 'Iowa', 'MO': 'Missouri', 'CT': 'Connecticut', 'WV': 'West Virginia', 'SC': 'South Carolina', 'LA': 'Louisiana', 'KS': 'Kansas', 'NY': 'New York', 'NE': 'Nebraska', 'OK': 'Oklahoma', 'FL': 'Florida', 'CA': 'California', 'CO': 'Colorado', 'PA': 'Pennsylvania', 'DE': 'Delaware', 'NM': 'New Mexico', 'RI': 'Rhode Island', 'MN': 'Minnesota', 'VI': 'Virgin Islands', 'NH': 'New Hampshire', 'MA': 'Massachusetts', 'GA': 'Georgia', 'ND': 'North Dakota', 'VA': 'Virginia'}\n",
    "\n",
    "homesqtr = homesqtr.replace({'State': states})\n",
    "homesqtr.set_index(['State', 'RegionName'], inplace=True)\n",
    "homesqtr.sort_index(inplace = True)"
   ]
  },
  {
   "cell_type": "markdown",
   "metadata": {},
   "source": [
    "## Analysis"
   ]
  },
  {
   "cell_type": "markdown",
   "metadata": {},
   "source": [
    "Looking at the 2008 recession, the decline or growth of housing prices between the recession start and recession bottom if found for each town. A t-test is used to compare the university town values to the non-univeristy town values.\n",
    "\n",
    "Reduced market loss is measured by mean price ratio using the equation:\n",
    "\n",
    "price ratio = (mean price at quarter before recession)/(mean price at recessionbottom)\n"
   ]
  },
  {
   "cell_type": "code",
   "execution_count": 54,
   "metadata": {},
   "outputs": [
    {
     "name": "stdout",
     "output_type": "stream",
     "text": [
      "p-value: 0.004325214853459962\n",
      "Mean Price Ratio of University Towns: 1.0377181366932766\n",
      "Mean Price Ratio of Non-University Towns: 1.052375653511628\n"
     ]
    },
    {
     "name": "stderr",
     "output_type": "stream",
     "text": [
      "/Users/owner/anaconda3/lib/python3.6/site-packages/ipykernel_launcher.py:7: FutureWarning: \n",
      "Passing list-likes to .loc or [] with any missing label will raise\n",
      "KeyError in the future, you can use .reindex() as an alternative.\n",
      "\n",
      "See the documentation here:\n",
      "https://pandas.pydata.org/pandas-docs/stable/indexing.html#deprecate-loc-reindex-listlike\n",
      "  import sys\n",
      "/Users/owner/anaconda3/lib/python3.6/site-packages/ipykernel_launcher.py:17: SettingWithCopyWarning: \n",
      "A value is trying to be set on a copy of a slice from a DataFrame.\n",
      "Try using .loc[row_indexer,col_indexer] = value instead\n",
      "\n",
      "See the caveats in the documentation: http://pandas.pydata.org/pandas-docs/stable/indexing.html#indexing-view-versus-copy\n"
     ]
    }
   ],
   "source": [
    " # Create new data showing decline or growth of housing prices between start and bottom\n",
    "data = homesqtr\n",
    "data['Bottom-Start'] = data[bottom] - data[start]\n",
    "\n",
    "# Split university and non-university towns\n",
    "towns_list = towns.to_records(index = False).tolist()\n",
    "uni = data.loc[towns_list]\n",
    "non_uni = data.loc[~data.index.isin(towns_list)]\n",
    "\n",
    "# Run ttest comparing university to non-university town values\n",
    "pvalue = ttest_ind(uni['Bottom-Start'], non_uni['Bottom-Start'], nan_policy='omit')[1]\n",
    "\n",
    "# Price Ratio\n",
    "uni['Price Ratio'] = uni[start]/uni[bottom]\n",
    "uni_mean = np.mean(uni['Price Ratio'])\n",
    "\n",
    "non_uni['Price Ratio'] = non_uni[start]/non_uni[bottom]\n",
    "non_uni_mean = np.mean(non_uni['Price Ratio'])\n",
    "\n",
    "print('p-value: {}'.format(pvalue))\n",
    "print('Mean Price Ratio of University Towns: {}'.format(uni_mean))\n",
    "print('Mean Price Ratio of Non-University Towns: {}'.format(non_uni_mean))"
   ]
  },
  {
   "cell_type": "markdown",
   "metadata": {},
   "source": [
    "With a p-value of 0.004, which is less than 0.1, we reject the null hypothesis. This suggests that housing prices in university towns indeed were less affected by the 2008 recession. University towns have a lower mean price ratio, which further indicates reduced market loss.\n"
   ]
  },
  {
   "cell_type": "code",
   "execution_count": null,
   "metadata": {},
   "outputs": [],
   "source": []
  }
 ],
 "metadata": {
  "kernelspec": {
   "display_name": "Python 3",
   "language": "python",
   "name": "python3"
  },
  "language_info": {
   "codemirror_mode": {
    "name": "ipython",
    "version": 3
   },
   "file_extension": ".py",
   "mimetype": "text/x-python",
   "name": "python",
   "nbconvert_exporter": "python",
   "pygments_lexer": "ipython3",
   "version": "3.6.5"
  }
 },
 "nbformat": 4,
 "nbformat_minor": 2
}
